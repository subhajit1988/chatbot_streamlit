{
 "cells": [
  {
   "cell_type": "code",
   "execution_count": 37,
   "metadata": {},
   "outputs": [],
   "source": [
    "import pandas as pd\n",
    "import time\n",
    "import openai\n",
    "import sys\n",
    "import tiktoken\n",
    "import numpy as np\n",
    "import warnings\n",
    "import io\n",
    "import toml\n",
    "import threading\n",
    "import random\n",
    "import logging \n",
    "import streamlit as st\n",
    "from dotenv import load_dotenv\n",
    "from htmlTemplates import css, bot_template, user_template\n",
    "from PyPDF2 import PdfReader\n",
    "#from langchain.text_splitter import CharacterTextSplitter\n",
    "from preprocess import *\n",
    "from embeddings import *\n",
    "from main_functions import *\n",
    "from docx import Document"
   ]
  },
  {
   "cell_type": "code",
   "execution_count": 2,
   "metadata": {},
   "outputs": [],
   "source": [
    "secrets =\"secrets.toml\"\n",
    "\n",
    "#secrets\n",
    "toml_dir = secrets\n",
    "\n",
    "with open(toml_dir, 'r') as f:\n",
    "    config = toml.load(f)\n",
    "\n",
    "# Set up OpenAI API credentials\n",
    "# azure required env vars commented out \n",
    "openai.api_type = config['api_type']\n",
    "openai.api_base = config['api_base']\n",
    "openai.api_version = config['api_version']\n",
    "openai.api_key = config['api_key']\n",
    "# Set up engine name\n",
    "engine_name = config['engine_name']\n",
    "\n",
    "#Completion on knowlede store config\n",
    "EMBEDDING_MODEL = config['EMBEDDING_MODEL']"
   ]
  },
  {
   "cell_type": "code",
   "execution_count": 3,
   "metadata": {},
   "outputs": [],
   "source": [
    "def define_dataframe_types(df):\n",
    "    df.loc[:, 'heading'] = df['heading'].astype(str)\n",
    "    df.loc[:, 'title'] = df['title'].astype(str)\n",
    "    df.loc[:, 'tokens'] = df['tokens'].astype(int)\n",
    "    df.loc[:, 'content'] = df['content'].astype(str)"
   ]
  },
  {
   "cell_type": "code",
   "execution_count": 4,
   "metadata": {},
   "outputs": [],
   "source": [
    "def reset_messages_ai():\n",
    "    global messages_ai\n",
    "    # Reset messages_ai to its default state or an empty list/dictionary, depending on your implementation\n",
    "    messages_ai = []"
   ]
  },
  {
   "cell_type": "code",
   "execution_count": 78,
   "metadata": {},
   "outputs": [],
   "source": [
    "def load_dfs(local_toml, idx_load = ['title','heading']):\n",
    "    global data_sources\n",
    "    global doc_embeddings \n",
    "    global code_embeddings \n",
    "    global df_code\n",
    "    global df_doc\n",
    "    global app_prompt_list\n",
    " \n",
    "    df = pd.read_parquet(config[local_toml])\n",
    "\n",
    "    df_code= df\n",
    "    define_dataframe_types(df_code)\n",
    "\n",
    "    code_embeddings = load_embeddings(df_code)\n",
    "    df_code = df_code.set_index(idx_load)\n",
    "    reset_messages_ai()"
   ]
  },
  {
   "cell_type": "code",
   "execution_count": 51,
   "metadata": {},
   "outputs": [],
   "source": [
    "def convert_text_token():\n",
    "    pdf_folder = 'data_pdf'\n",
    "    output_csv = 'output1_new.csv'\n",
    "\n",
    "    process_folder(pdf_folder, output_csv)"
   ]
  },
  {
   "cell_type": "code",
   "execution_count": 62,
   "metadata": {},
   "outputs": [
    {
     "data": {
      "text/html": [
       "<div>\n",
       "<style scoped>\n",
       "    .dataframe tbody tr th:only-of-type {\n",
       "        vertical-align: middle;\n",
       "    }\n",
       "\n",
       "    .dataframe tbody tr th {\n",
       "        vertical-align: top;\n",
       "    }\n",
       "\n",
       "    .dataframe thead th {\n",
       "        text-align: right;\n",
       "    }\n",
       "</style>\n",
       "<table border=\"1\" class=\"dataframe\">\n",
       "  <thead>\n",
       "    <tr style=\"text-align: right;\">\n",
       "      <th></th>\n",
       "      <th>title</th>\n",
       "      <th>heading</th>\n",
       "      <th>content</th>\n",
       "      <th>tokens</th>\n",
       "      <th>embeddings</th>\n",
       "    </tr>\n",
       "  </thead>\n",
       "  <tbody>\n",
       "    <tr>\n",
       "      <th>114</th>\n",
       "      <td>leaflet</td>\n",
       "      <td>Page 1</td>\n",
       "      <td>53 B. PACKAGE LEAFLET</td>\n",
       "      <td>7</td>\n",
       "      <td>[-0.0006750855827704072, 0.004950627684593201,...</td>\n",
       "    </tr>\n",
       "    <tr>\n",
       "      <th>115</th>\n",
       "      <td>leaflet</td>\n",
       "      <td>Page 2</td>\n",
       "      <td>54 Package leaflet: Information for the patien...</td>\n",
       "      <td>598</td>\n",
       "      <td>[-0.01264230627566576, 0.013442616909742355, 0...</td>\n",
       "    </tr>\n",
       "    <tr>\n",
       "      <th>116</th>\n",
       "      <td>leaflet</td>\n",
       "      <td>Page 3</td>\n",
       "      <td>55 Alopecia areata Olumiant is used to treat a...</td>\n",
       "      <td>742</td>\n",
       "      <td>[-0.027777131646871567, -0.005803436506539583,...</td>\n",
       "    </tr>\n",
       "    <tr>\n",
       "      <th>117</th>\n",
       "      <td>leaflet</td>\n",
       "      <td>Page 4</td>\n",
       "      <td>56 coagulation defect is identified in you or ...</td>\n",
       "      <td>675</td>\n",
       "      <td>[-0.013979101553559303, -0.0021750815212726593...</td>\n",
       "    </tr>\n",
       "    <tr>\n",
       "      <th>118</th>\n",
       "      <td>leaflet</td>\n",
       "      <td>Page 5</td>\n",
       "      <td>57 Pregnancy and breast-feeding If you are pre...</td>\n",
       "      <td>623</td>\n",
       "      <td>[1.0560002010606695e-05, 0.009587787091732025,...</td>\n",
       "    </tr>\n",
       "    <tr>\n",
       "      <th>119</th>\n",
       "      <td>leaflet</td>\n",
       "      <td>Page 6</td>\n",
       "      <td>58 You can take the tablets either with or wit...</td>\n",
       "      <td>565</td>\n",
       "      <td>[0.002330534625798464, 0.0032498009968549013, ...</td>\n",
       "    </tr>\n",
       "    <tr>\n",
       "      <th>120</th>\n",
       "      <td>leaflet</td>\n",
       "      <td>Page 7</td>\n",
       "      <td>59 Uncommon (may affect up to 1 in 100 people)...</td>\n",
       "      <td>573</td>\n",
       "      <td>[0.0008120652055367827, -0.004402050748467445,...</td>\n",
       "    </tr>\n",
       "    <tr>\n",
       "      <th>121</th>\n",
       "      <td>leaflet</td>\n",
       "      <td>Page 8</td>\n",
       "      <td>60 What Olumiant looks like and contents of th...</td>\n",
       "      <td>785</td>\n",
       "      <td>[-0.0002589018549770117, 0.008265532553195953,...</td>\n",
       "    </tr>\n",
       "    <tr>\n",
       "      <th>122</th>\n",
       "      <td>leaflet</td>\n",
       "      <td>Page 9</td>\n",
       "      <td>61 France Lilly France Tél: +33-(0) 1 55 49 3...</td>\n",
       "      <td>557</td>\n",
       "      <td>[-0.010335579514503479, 0.005636405665427446, ...</td>\n",
       "    </tr>\n",
       "    <tr>\n",
       "      <th>123</th>\n",
       "      <td>leaflet</td>\n",
       "      <td>Page 10</td>\n",
       "      <td>62 Your name: ________________________________...</td>\n",
       "      <td>323</td>\n",
       "      <td>[-0.008183985948562622, -0.024053573608398438,...</td>\n",
       "    </tr>\n",
       "  </tbody>\n",
       "</table>\n",
       "</div>"
      ],
      "text/plain": [
       "       title  heading                                            content  \\\n",
       "114  leaflet   Page 1                              53 B. PACKAGE LEAFLET   \n",
       "115  leaflet   Page 2  54 Package leaflet: Information for the patien...   \n",
       "116  leaflet   Page 3  55 Alopecia areata Olumiant is used to treat a...   \n",
       "117  leaflet   Page 4  56 coagulation defect is identified in you or ...   \n",
       "118  leaflet   Page 5  57 Pregnancy and breast-feeding If you are pre...   \n",
       "119  leaflet   Page 6  58 You can take the tablets either with or wit...   \n",
       "120  leaflet   Page 7  59 Uncommon (may affect up to 1 in 100 people)...   \n",
       "121  leaflet   Page 8  60 What Olumiant looks like and contents of th...   \n",
       "122  leaflet   Page 9  61 France Lilly France Tél: +33-(0) 1 55 49 3...   \n",
       "123  leaflet  Page 10  62 Your name: ________________________________...   \n",
       "\n",
       "     tokens                                         embeddings  \n",
       "114       7  [-0.0006750855827704072, 0.004950627684593201,...  \n",
       "115     598  [-0.01264230627566576, 0.013442616909742355, 0...  \n",
       "116     742  [-0.027777131646871567, -0.005803436506539583,...  \n",
       "117     675  [-0.013979101553559303, -0.0021750815212726593...  \n",
       "118     623  [1.0560002010606695e-05, 0.009587787091732025,...  \n",
       "119     565  [0.002330534625798464, 0.0032498009968549013, ...  \n",
       "120     573  [0.0008120652055367827, -0.004402050748467445,...  \n",
       "121     785  [-0.0002589018549770117, 0.008265532553195953,...  \n",
       "122     557  [-0.010335579514503479, 0.005636405665427446, ...  \n",
       "123     323  [-0.008183985948562622, -0.024053573608398438,...  "
      ]
     },
     "execution_count": 62,
     "metadata": {},
     "output_type": "execute_result"
    }
   ],
   "source": [
    "df_data = pd.read_csv('output1_new.csv')\n",
    "\n",
    "df_data = df_data[df_data['title']=='leaflet']\n",
    "\n",
    "# Apply embeddings to each content cell and store the list of embeddings\n",
    "df_data['embeddings'] = df_data['content'].apply(get_embeddings)\n",
    "df_data"
   ]
  },
  {
   "cell_type": "code",
   "execution_count": 52,
   "metadata": {},
   "outputs": [],
   "source": [
    "convert_text_token()"
   ]
  },
  {
   "cell_type": "code",
   "execution_count": 5,
   "metadata": {},
   "outputs": [],
   "source": [
    "def convert_token_embeddings():\n",
    "    # Replace 'your_input.csv' with the path to your CSV file\n",
    "    input_csv = 'output1_new.csv'\n",
    "    process_dataframe(input_csv)"
   ]
  },
  {
   "cell_type": "code",
   "execution_count": 6,
   "metadata": {},
   "outputs": [
    {
     "name": "stdout",
     "output_type": "stream",
     "text": [
      "ewkljfehffuhsufhgweufhwugweiyg\n",
      "114    leaflet\n",
      "115    leaflet\n",
      "116    leaflet\n",
      "117    leaflet\n",
      "118    leaflet\n",
      "119    leaflet\n",
      "120    leaflet\n",
      "121    leaflet\n",
      "122    leaflet\n",
      "123    leaflet\n",
      "Name: title, dtype: object\n",
      "Output saved as output1_new_with_embeddings.csv and output1_new_with_embeddings.parquet\n"
     ]
    }
   ],
   "source": [
    "convert_token_embeddings()"
   ]
  },
  {
   "cell_type": "code",
   "execution_count": 9,
   "metadata": {},
   "outputs": [],
   "source": [
    "def respond(message, chat_history):\n",
    "    \n",
    "      \n",
    "    global messages_ai\n",
    "    global file_name_chat\n",
    "    global chat_id\n",
    "    print(\"Message_AI: \",messages_ai)\n",
    "\n",
    "    bot_message, messages_ai = initiate_countdown(basic_chain_parallel_single, messages_ai, message,code_embeddings, df_code, seconds = 60)\n",
    "    #write_messages_ai_to_txt(messages_ai)\n",
    "    chat_history.append((message, bot_message))  \n",
    "    return messages_ai, chat_history"
   ]
  },
  {
   "cell_type": "code",
   "execution_count": 15,
   "metadata": {},
   "outputs": [],
   "source": [
    "load_dfs(\"medical_data\")"
   ]
  },
  {
   "cell_type": "code",
   "execution_count": 16,
   "metadata": {},
   "outputs": [
    {
     "name": "stdout",
     "output_type": "stream",
     "text": [
      "Message_AI:  []\n"
     ]
    }
   ],
   "source": [
    "message = \"hi\"\n",
    "chat_history = []\n",
    "messages_ai, chat_history = respond(message, chat_history)"
   ]
  },
  {
   "cell_type": "code",
   "execution_count": 22,
   "metadata": {},
   "outputs": [
    {
     "data": {
      "text/plain": [
       "[{'role': 'user', 'content': 'hi'},\n",
       " {'role': 'assistant',\n",
       "  'content': \"I'm sorry, I can only assist with Lilly medicine related queries.\"}]"
      ]
     },
     "execution_count": 22,
     "metadata": {},
     "output_type": "execute_result"
    }
   ],
   "source": [
    "messages_ai"
   ]
  },
  {
   "cell_type": "code",
   "execution_count": 18,
   "metadata": {},
   "outputs": [
    {
     "data": {
      "text/plain": [
       "[('hi', \"I'm sorry, I can only assist with Lilly medicine related queries.\")]"
      ]
     },
     "execution_count": 18,
     "metadata": {},
     "output_type": "execute_result"
    }
   ],
   "source": [
    "chat_history"
   ]
  },
  {
   "cell_type": "code",
   "execution_count": 21,
   "metadata": {},
   "outputs": [
    {
     "name": "stdout",
     "output_type": "stream",
     "text": [
      "0\n",
      "user\n",
      "hi\n",
      "1\n",
      "assistant\n",
      "I'm sorry, I can only assist with Lilly medicine related queries.\n"
     ]
    }
   ],
   "source": [
    "for i, message in enumerate(messages_ai):\n",
    "    if i % 2 == 0:\n",
    "        print(i)\n",
    "        print(message['role'])\n",
    "        print(message['content'])\n",
    "    else:\n",
    "        print(i)\n",
    "        print(message['role'])\n",
    "        print(message['content'])\n",
    "        "
   ]
  },
  {
   "cell_type": "code",
   "execution_count": 20,
   "metadata": {},
   "outputs": [],
   "source": [
    "RESPONSE = [{'role': 'user', 'content': 'hi'}, {'role': 'assistant', 'content': \"I'm sorry, I can only assist with Omuliant related queries.\"}, {'role': 'user', 'content': 'what is olumiant?'}, {'role': 'assistant', 'content': 'Omuliant is a medication primarily used for the treatment of certain diseases such as Rheumatoid arthritis and Juvenile idiopathic arthritis. It contains the active ingredient baricitinib, which helps to reduce inflammation and relieve symptoms associated with these conditions. \\n\\nPlease note that this response is based on the provided context and my knowledge base. If you require more specific information or have any other questions related to Omuliant, feel free to ask.'}]"
   ]
  },
  {
   "cell_type": "code",
   "execution_count": 34,
   "metadata": {},
   "outputs": [
    {
     "name": "stdout",
     "output_type": "stream",
     "text": [
      "0\n",
      "user\n",
      "hi\n",
      "1\n",
      "assistant\n",
      "I'm sorry, I can only assist with Omuliant related queries.\n",
      "2\n",
      "user\n",
      "what is olumiant?\n",
      "3\n",
      "assistant\n",
      "Omuliant is a medication primarily used for the treatment of certain diseases such as Rheumatoid arthritis and Juvenile idiopathic arthritis. It contains the active ingredient baricitinib, which helps to reduce inflammation and relieve symptoms associated with these conditions. \n",
      "\n",
      "Please note that this response is based on the provided context and my knowledge base. If you require more specific information or have any other questions related to Omuliant, feel free to ask.\n"
     ]
    }
   ],
   "source": [
    "for i, message in enumerate(RESPONSE):\n",
    "    if i % 3 == 0:\n",
    "        print(i)\n",
    "        print(message['role'])\n",
    "        print(message['content'])\n",
    "    else:\n",
    "        print(i)\n",
    "        print(message['role'])\n",
    "        print(message['content'])"
   ]
  },
  {
   "cell_type": "markdown",
   "metadata": {},
   "source": [
    "## Splitting of the pdf"
   ]
  },
  {
   "cell_type": "code",
   "execution_count": 35,
   "metadata": {},
   "outputs": [
    {
     "name": "stdout",
     "output_type": "stream",
     "text": [
      "Requirement already satisfied: PyPDF2 in ./venvchatbot/lib/python3.11/site-packages (3.0.1)\n",
      "\n",
      "\u001b[1m[\u001b[0m\u001b[34;49mnotice\u001b[0m\u001b[1;39;49m]\u001b[0m\u001b[39;49m A new release of pip is available: \u001b[0m\u001b[31;49m23.2.1\u001b[0m\u001b[39;49m -> \u001b[0m\u001b[32;49m24.0\u001b[0m\n",
      "\u001b[1m[\u001b[0m\u001b[34;49mnotice\u001b[0m\u001b[1;39;49m]\u001b[0m\u001b[39;49m To update, run: \u001b[0m\u001b[32;49mpip install --upgrade pip\u001b[0m\n",
      "Note: you may need to restart the kernel to use updated packages.\n"
     ]
    }
   ],
   "source": [
    "pip install PyPDF2\n"
   ]
  },
  {
   "cell_type": "code",
   "execution_count": 2,
   "metadata": {},
   "outputs": [
    {
     "name": "stdout",
     "output_type": "stream",
     "text": [
      "62\n",
      "PDF split successfully.\n"
     ]
    }
   ],
   "source": [
    "import PyPDF2\n",
    "\n",
    "def split_pdf(input_pdf, keyword):\n",
    "    pdf_reader = PyPDF2.PdfReader(input_pdf)\n",
    "    num_pages = len(pdf_reader.pages)\n",
    "    print(num_pages)\n",
    "    # Find the keyword page\n",
    "    keyword_page = None\n",
    "    for page_num in range(num_pages):\n",
    "        page_text = pdf_reader.pages[page_num].extract_text()\n",
    "        \n",
    "        if keyword in page_text:\n",
    "            keyword_page = page_num\n",
    "            break\n",
    "\n",
    "    if keyword_page is None:\n",
    "        print(\"Keyword not found in the PDF.\")\n",
    "        return\n",
    "\n",
    "    # Split the PDF\n",
    "    pdf_writer1 = PyPDF2.PdfWriter()\n",
    "    pdf_writer2 = PyPDF2.PdfWriter()\n",
    "\n",
    "    for page_num in range(num_pages):\n",
    "        if page_num < keyword_page:\n",
    "            pdf_writer1.add_page(pdf_reader.pages[page_num])\n",
    "        else:\n",
    "            pdf_writer2.add_page(pdf_reader.pages[page_num])\n",
    "\n",
    "    with open(\"part1.pdf\", \"wb\") as output1:\n",
    "        pdf_writer1.write(output1)\n",
    "\n",
    "    with open(\"part2.pdf\", \"wb\") as output2:\n",
    "        pdf_writer2.write(output2)\n",
    "\n",
    "    print(\"PDF split successfully.\")\n",
    "\n",
    "# Usage example\n",
    "split_pdf(\"data_pdf/Olumiant.pdf\", \"B. PACKAGE LEAFLET\")\n"
   ]
  },
  {
   "cell_type": "code",
   "execution_count": 26,
   "metadata": {},
   "outputs": [],
   "source": [
    "import ast\n",
    "file_path = \"messages_ai_debug.txt\"\n",
    "with open(file_path, 'r') as file:\n",
    "    # Read the entire contents of the file\n",
    "    text_data = file.read()\n",
    "    list_object = ast.literal_eval(text_data)\n",
    "    "
   ]
  },
  {
   "cell_type": "code",
   "execution_count": 29,
   "metadata": {},
   "outputs": [
    {
     "data": {
      "text/plain": [
       "'serious side effects (shingles and lung infection)'"
      ]
     },
     "execution_count": 29,
     "metadata": {},
     "output_type": "execute_result"
    }
   ],
   "source": [
    "list_object[0]['content']"
   ]
  },
  {
   "cell_type": "code",
   "execution_count": 25,
   "metadata": {},
   "outputs": [
    {
     "data": {
      "text/plain": [
       "'[\\n    {\\n        \"role\": \"user\",\\n        \"content\": \"serious side effects (shingles and lung infection)\"\\n    },\\n    {\\n        \"role\": \"assistant\",\\n        \"content\": \"The serious side effects of OLUMIANT (baricitinib) can include infections such as shingles and lung infections. It is important to note that these serious infections can occur while taking OLUMIANT. If you experience symptoms such as fever, chills, cough, or any signs of infection, it is crucial to contact your healthcare provider immediately. They will be able to evaluate your symptoms and provide appropriate medical guidance. It is also important to discuss any concerns or questions about the potential side effects of OLUMIANT with your healthcare provider before starting the medication.\\\\n\\\\nReference for answer: OLUMIANT Prescribing Information, page 5.\"\\n    },\\n    {\\n        \"role\": \"user\",\\n        \"content\": \"what are the possible side effects of olumiant\\\\u00ae (baricitinib)?\"\\n    },\\n    {\\n        \"role\": \"assistant\",\\n        \"content\": \"The possible side effects of OLUMIANT (baricitinib) can vary from person to person. Common side effects may include upper respiratory tract infections, nausea, and changes in blood test results (such as increased cholesterol levels). Other potential side effects may include serious infections, allergic reactions, liver problems, blood clotting disorders, and an increased risk of developing certain types of cancer. It is important to note that this is not an exhaustive list of side effects, and individuals may experience different reactions. If you are taking OLUMIANT and experience any concerning side effects, it is crucial to consult your healthcare provider for further guidance.\\\\n\\\\nReference for answer: OLUMIANT Prescribing Information, Page 6.\"\\n    }\\n]'"
      ]
     },
     "execution_count": 25,
     "metadata": {},
     "output_type": "execute_result"
    }
   ],
   "source": [
    "text_data"
   ]
  },
  {
   "cell_type": "code",
   "execution_count": 34,
   "metadata": {},
   "outputs": [],
   "source": [
    "l = []\n",
    "for d in list_object:\n",
    "    l.append(d['content'])"
   ]
  },
  {
   "cell_type": "code",
   "execution_count": 35,
   "metadata": {},
   "outputs": [
    {
     "data": {
      "text/plain": [
       "['serious side effects (shingles and lung infection)',\n",
       " 'The serious side effects of OLUMIANT (baricitinib) can include infections such as shingles and lung infections. It is important to note that these serious infections can occur while taking OLUMIANT. If you experience symptoms such as fever, chills, cough, or any signs of infection, it is crucial to contact your healthcare provider immediately. They will be able to evaluate your symptoms and provide appropriate medical guidance. It is also important to discuss any concerns or questions about the potential side effects of OLUMIANT with your healthcare provider before starting the medication.\\n\\nReference for answer: OLUMIANT Prescribing Information, page 5.',\n",
       " 'what are the possible side effects of olumiant® (baricitinib)?',\n",
       " 'The possible side effects of OLUMIANT (baricitinib) can vary from person to person. Common side effects may include upper respiratory tract infections, nausea, and changes in blood test results (such as increased cholesterol levels). Other potential side effects may include serious infections, allergic reactions, liver problems, blood clotting disorders, and an increased risk of developing certain types of cancer. It is important to note that this is not an exhaustive list of side effects, and individuals may experience different reactions. If you are taking OLUMIANT and experience any concerning side effects, it is crucial to consult your healthcare provider for further guidance.\\n\\nReference for answer: OLUMIANT Prescribing Information, Page 6.']"
      ]
     },
     "execution_count": 35,
     "metadata": {},
     "output_type": "execute_result"
    }
   ],
   "source": [
    "l"
   ]
  },
  {
   "cell_type": "code",
   "execution_count": 38,
   "metadata": {},
   "outputs": [],
   "source": [
    "doc = Document()\n",
    "\n",
    "    # Add each item from the list to the document as a paragraph\n",
    "for item in l:\n",
    "    doc.add_paragraph(item)\n",
    "\n",
    "    # Save the document\n",
    "doc.save(\"bot_output.docx\")"
   ]
  },
  {
   "cell_type": "code",
   "execution_count": 57,
   "metadata": {},
   "outputs": [
    {
     "data": {
      "text/plain": [
       "[{'medicine': 'OLUMIANT',\n",
       "  'code_header': \"You are an expert medical AI assistant with up-to-date knowledge for OLUMIANT, a medication developed by Eli Lilly. \\n                OLUMIANT is a medication featuring the active ingredient baricitinib, primarily used to treat rheumatoid arthritis. \\n                You excel in providing expert advice on this drug based on user inquiries. Your responses are rooted in integrity, excellence, \\n                and respect for individuals, ensuring accuracy and reliability in all information shared. \\n                Answer the user's query using only this Referenced information.                *** Reference information ***    \\n                \",\n",
       "  'code_answering_instructions': \"\\n[IMPORTANT INSTRUCTIONS]:\\n- If a query does not pertain to legitimate OLUMIANT related inquiry, respond with: 'I am sorry, I can only assist with OLUMIANT related queries.'\\n- If the necessary information for answering 'Q:' is not in the provided 'Referenced information', say: 'Sorry, my knowledge base lacks the relevant information to address your question.'\\n- Upon finding the required information in the 'Referenced information', address the query or complete the task ensuring you also follow the next point.\\n- Conclude all responses prior to providing reference source by either:\\n  1. Offering further assistance\\n  2. Providing options for further exploration\\n- Give detailed comprehensive answers, using all available useful information.\\n- Reference the source of your answer at the end, using the format: 'Reference for answer: <Document Name>, <Page Number>.'\\n\\n\\n Input Q:\\n\"}]"
      ]
     },
     "execution_count": 57,
     "metadata": {},
     "output_type": "execute_result"
    }
   ],
   "source": [
    "import json\n",
    "cwd = os.getcwd()\n",
    "medicine_path = os.path.join(cwd, \"prompt_config.json\")\n",
    "with open(medicine_path, 'r') as v:\n",
    "    medicines = json.load(v)\n",
    "medicines"
   ]
  },
  {
   "cell_type": "code",
   "execution_count": 64,
   "metadata": {},
   "outputs": [],
   "source": [
    "medicine = \"MOZZARO\""
   ]
  },
  {
   "cell_type": "code",
   "execution_count": 58,
   "metadata": {},
   "outputs": [
    {
     "data": {
      "text/plain": [
       "\"You are an expert medical AI assistant with up-to-date knowledge for OLUMIANT, a medication developed by Eli Lilly. \\n                OLUMIANT is a medication featuring the active ingredient baricitinib, primarily used to treat rheumatoid arthritis. \\n                You excel in providing expert advice on this drug based on user inquiries. Your responses are rooted in integrity, excellence, \\n                and respect for individuals, ensuring accuracy and reliability in all information shared. \\n                Answer the user's query using only this Referenced information.                *** Reference information ***    \\n                \""
      ]
     },
     "execution_count": 58,
     "metadata": {},
     "output_type": "execute_result"
    }
   ],
   "source": [
    "if medicines[0]['medicine'] == medicine:\n",
    "    code_header = medicines[0]['code_header']\n",
    "    code_answering_instructions = medicines[0]['code_answering_instructions']\n",
    "code_header"
   ]
  },
  {
   "cell_type": "code",
   "execution_count": 59,
   "metadata": {},
   "outputs": [
    {
     "data": {
      "text/plain": [
       "\"\\n[IMPORTANT INSTRUCTIONS]:\\n- If a query does not pertain to legitimate OLUMIANT related inquiry, respond with: 'I am sorry, I can only assist with OLUMIANT related queries.'\\n- If the necessary information for answering 'Q:' is not in the provided 'Referenced information', say: 'Sorry, my knowledge base lacks the relevant information to address your question.'\\n- Upon finding the required information in the 'Referenced information', address the query or complete the task ensuring you also follow the next point.\\n- Conclude all responses prior to providing reference source by either:\\n  1. Offering further assistance\\n  2. Providing options for further exploration\\n- Give detailed comprehensive answers, using all available useful information.\\n- Reference the source of your answer at the end, using the format: 'Reference for answer: <Document Name>, <Page Number>.'\\n\\n\\n Input Q:\\n\""
      ]
     },
     "execution_count": 59,
     "metadata": {},
     "output_type": "execute_result"
    }
   ],
   "source": [
    "code_answering_instructions"
   ]
  },
  {
   "cell_type": "code",
   "execution_count": 65,
   "metadata": {},
   "outputs": [],
   "source": [
    "code_header = f\"\"\"You are an expert medical AI assistant with up-to-date knowledge for {medicine}, a medication developed by Eli Lilly. \n",
    "                {medicine} is a medication featuring the active ingredient baricitinib, primarily used to treat rheumatoid arthritis. \n",
    "                You excel in providing expert advice on this drug based on user inquiries. Your responses are rooted in integrity, excellence, \n",
    "                and respect for individuals, ensuring accuracy and reliability in all information shared.\n",
    "                Answer the user's query using only this Referenced information.\\\n",
    "                *** Reference information ***\\\n",
    "    \n",
    "                \"\"\"  "
   ]
  },
  {
   "cell_type": "code",
   "execution_count": 66,
   "metadata": {},
   "outputs": [
    {
     "data": {
      "text/plain": [
       "\"You are an expert medical AI assistant with up-to-date knowledge for MOZZARO, a medication developed by Eli Lilly. \\n                MOZZARO is a medication featuring the active ingredient baricitinib, primarily used to treat rheumatoid arthritis. \\n                You excel in providing expert advice on this drug based on user inquiries. Your responses are rooted in integrity, excellence, \\n                and respect for individuals, ensuring accuracy and reliability in all information shared. \\n                Answer the user's query using only this Referenced information.                *** Reference information ***    \\n                \""
      ]
     },
     "execution_count": 66,
     "metadata": {},
     "output_type": "execute_result"
    }
   ],
   "source": [
    "code_header"
   ]
  },
  {
   "cell_type": "code",
   "execution_count": 67,
   "metadata": {},
   "outputs": [],
   "source": [
    "code_answering_instructions = f\"\"\"\n",
    "[IMPORTANT INSTRUCTIONS]:\n",
    "- If a query does not pertain to legitimate {medicine} related inquiry, respond with: \"I'm sorry, I can only assist with {medicine} related queries.\"\n",
    "- If the necessary information for answering \"Q:\" is not in the provided \"Referenced information\", say: \"Sorry, my knowledge base lacks the relevant information to address your question.\"\n",
    "- Upon finding the required information in the \"Referenced information\", address the query or complete the task ensuring you also follow the next point.\n",
    "- Conclude all responses prior to providing reference source by either:\n",
    "  1. Offering further assistance\n",
    "  2. Providing options for further exploration\n",
    "- Give detailed comprehensive answers, using all available useful information.\n",
    "- Reference the source of your answer at the end, using the format: \"Reference for answer: <Document Name>, <Page Number>.\"\n",
    "\n",
    "\\n Input Q:\n",
    "\"\"\""
   ]
  },
  {
   "cell_type": "code",
   "execution_count": 68,
   "metadata": {},
   "outputs": [
    {
     "data": {
      "text/plain": [
       "'\\n[IMPORTANT INSTRUCTIONS]:\\n- If a query does not pertain to legitimate MOZZARO related inquiry, respond with: \"I\\'m sorry, I can only assist with MOZZARO related queries.\"\\n- If the necessary information for answering \"Q:\" is not in the provided \"Referenced information\", say: \"Sorry, my knowledge base lacks the relevant information to address your question.\"\\n- Upon finding the required information in the \"Referenced information\", address the query or complete the task ensuring you also follow the next point.\\n- Conclude all responses prior to providing reference source by either:\\n  1. Offering further assistance\\n  2. Providing options for further exploration\\n- Give detailed comprehensive answers, using all available useful information.\\n- Reference the source of your answer at the end, using the format: \"Reference for answer: <Document Name>, <Page Number>.\"\\n\\n\\n Input Q:\\n'"
      ]
     },
     "execution_count": 68,
     "metadata": {},
     "output_type": "execute_result"
    }
   ],
   "source": [
    "code_answering_instructions"
   ]
  },
  {
   "cell_type": "code",
   "execution_count": null,
   "metadata": {},
   "outputs": [],
   "source": []
  }
 ],
 "metadata": {
  "kernelspec": {
   "display_name": "venvchatbot",
   "language": "python",
   "name": "python3"
  },
  "language_info": {
   "codemirror_mode": {
    "name": "ipython",
    "version": 3
   },
   "file_extension": ".py",
   "mimetype": "text/x-python",
   "name": "python",
   "nbconvert_exporter": "python",
   "pygments_lexer": "ipython3",
   "version": "3.11.5"
  }
 },
 "nbformat": 4,
 "nbformat_minor": 2
}
